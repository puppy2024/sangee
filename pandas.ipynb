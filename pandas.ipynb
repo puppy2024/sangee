{
 "cells": [
  {
   "cell_type": "code",
   "execution_count": 5,
   "id": "551278e4-1336-476f-8281-fe061f94ef0a",
   "metadata": {},
   "outputs": [],
   "source": [
    "import pandas as pd"
   ]
  },
  {
   "cell_type": "code",
   "execution_count": 2,
   "id": "38ae2c71-754d-49c1-b4d7-3a70702295a9",
   "metadata": {},
   "outputs": [],
   "source": [
    "stud_name=[\"hema\",\"priya\",\"vaishu\",\"anu\",\"suba\"]\n",
    "stud_id=[101,102,103,104,105]\n",
    "marks=[480,492,320,420,499]"
   ]
  },
  {
   "cell_type": "code",
   "execution_count": 3,
   "id": "dabd1d7d-83bb-4317-9263-060bacec4076",
   "metadata": {},
   "outputs": [],
   "source": [
    "data=pd.DataFrame({\"stud\":stud_name,\"Stud\":stud_id,\"Marks\":marks})"
   ]
  },
  {
   "cell_type": "code",
   "execution_count": 4,
   "id": "7543e08c-5758-4320-8771-97f320869c2f",
   "metadata": {},
   "outputs": [
    {
     "data": {
      "text/html": [
       "<div>\n",
       "<style scoped>\n",
       "    .dataframe tbody tr th:only-of-type {\n",
       "        vertical-align: middle;\n",
       "    }\n",
       "\n",
       "    .dataframe tbody tr th {\n",
       "        vertical-align: top;\n",
       "    }\n",
       "\n",
       "    .dataframe thead th {\n",
       "        text-align: right;\n",
       "    }\n",
       "</style>\n",
       "<table border=\"1\" class=\"dataframe\">\n",
       "  <thead>\n",
       "    <tr style=\"text-align: right;\">\n",
       "      <th></th>\n",
       "      <th>stud</th>\n",
       "      <th>Stud</th>\n",
       "      <th>Marks</th>\n",
       "    </tr>\n",
       "  </thead>\n",
       "  <tbody>\n",
       "    <tr>\n",
       "      <th>0</th>\n",
       "      <td>hema</td>\n",
       "      <td>101</td>\n",
       "      <td>480</td>\n",
       "    </tr>\n",
       "    <tr>\n",
       "      <th>1</th>\n",
       "      <td>priya</td>\n",
       "      <td>102</td>\n",
       "      <td>492</td>\n",
       "    </tr>\n",
       "    <tr>\n",
       "      <th>2</th>\n",
       "      <td>vaishu</td>\n",
       "      <td>103</td>\n",
       "      <td>320</td>\n",
       "    </tr>\n",
       "    <tr>\n",
       "      <th>3</th>\n",
       "      <td>anu</td>\n",
       "      <td>104</td>\n",
       "      <td>420</td>\n",
       "    </tr>\n",
       "    <tr>\n",
       "      <th>4</th>\n",
       "      <td>suba</td>\n",
       "      <td>105</td>\n",
       "      <td>499</td>\n",
       "    </tr>\n",
       "  </tbody>\n",
       "</table>\n",
       "</div>"
      ],
      "text/plain": [
       "     stud  Stud  Marks\n",
       "0    hema   101    480\n",
       "1   priya   102    492\n",
       "2  vaishu   103    320\n",
       "3     anu   104    420\n",
       "4    suba   105    499"
      ]
     },
     "execution_count": 4,
     "metadata": {},
     "output_type": "execute_result"
    }
   ],
   "source": [
    "data"
   ]
  },
  {
   "cell_type": "code",
   "execution_count": 7,
   "id": "6a405520-c3a9-4672-88f2-3dd38547860e",
   "metadata": {},
   "outputs": [
    {
     "name": "stdout",
     "output_type": "stream",
     "text": [
      "<class 'pandas.core.frame.DataFrame'>\n",
      "RangeIndex: 5 entries, 0 to 4\n",
      "Data columns (total 3 columns):\n",
      " #   Column  Non-Null Count  Dtype \n",
      "---  ------  --------------  ----- \n",
      " 0   stud    5 non-null      object\n",
      " 1   Stud    5 non-null      int64 \n",
      " 2   Marks   5 non-null      int64 \n",
      "dtypes: int64(2), object(1)\n",
      "memory usage: 248.0+ bytes\n"
     ]
    }
   ],
   "source": [
    "data.info()"
   ]
  },
  {
   "cell_type": "code",
   "execution_count": 8,
   "id": "ed6d270a-bfe7-47e7-b552-aa4eafc1cd10",
   "metadata": {},
   "outputs": [
    {
     "data": {
      "text/plain": [
       "0      hema\n",
       "1     priya\n",
       "2    vaishu\n",
       "3       anu\n",
       "4      suba\n",
       "Name: stud, dtype: object"
      ]
     },
     "execution_count": 8,
     "metadata": {},
     "output_type": "execute_result"
    }
   ],
   "source": [
    "data.stud"
   ]
  },
  {
   "cell_type": "code",
   "execution_count": 9,
   "id": "13036c74-f5e5-4b14-aad1-813722e470ba",
   "metadata": {},
   "outputs": [
    {
     "data": {
      "text/plain": [
       "0    480\n",
       "1    492\n",
       "2    320\n",
       "3    420\n",
       "4    499\n",
       "Name: Marks, dtype: int64"
      ]
     },
     "execution_count": 9,
     "metadata": {},
     "output_type": "execute_result"
    }
   ],
   "source": [
    "data[\"Marks\"]"
   ]
  },
  {
   "cell_type": "code",
   "execution_count": 11,
   "id": "6c4209ac-a6b4-4210-bd71-2c867a4fd96d",
   "metadata": {},
   "outputs": [],
   "source": [
    "data.to_csv(\"stud_marks.csv\",index=False)"
   ]
  },
  {
   "cell_type": "code",
   "execution_count": 6,
   "id": "6db5672b-931c-47c8-9eb0-9c80196d5a03",
   "metadata": {},
   "outputs": [],
   "source": [
    "malan_jewels=[\"chain\",\"ring\",\"bracelet\",\"earings\",\"coins\"]\n",
    "price=[42000,22000,45000,18000,9999]\n",
    "offer=[20,50,25,10,5]"
   ]
  },
  {
   "cell_type": "code",
   "execution_count": 10,
   "id": "b1629b3b-afaa-48be-9e4f-5c4530a84b4c",
   "metadata": {},
   "outputs": [],
   "source": [
    "data=pd.DataFrame({\"malan\":malan_jewels,\"Malan\":price,\"Offer\":offer})"
   ]
  },
  {
   "cell_type": "code",
   "execution_count": 11,
   "id": "160ac082-94ab-41c4-9b9f-a805863b1fe9",
   "metadata": {},
   "outputs": [
    {
     "data": {
      "text/html": [
       "<div>\n",
       "<style scoped>\n",
       "    .dataframe tbody tr th:only-of-type {\n",
       "        vertical-align: middle;\n",
       "    }\n",
       "\n",
       "    .dataframe tbody tr th {\n",
       "        vertical-align: top;\n",
       "    }\n",
       "\n",
       "    .dataframe thead th {\n",
       "        text-align: right;\n",
       "    }\n",
       "</style>\n",
       "<table border=\"1\" class=\"dataframe\">\n",
       "  <thead>\n",
       "    <tr style=\"text-align: right;\">\n",
       "      <th></th>\n",
       "      <th>malan</th>\n",
       "      <th>Malan</th>\n",
       "      <th>Offer</th>\n",
       "    </tr>\n",
       "  </thead>\n",
       "  <tbody>\n",
       "    <tr>\n",
       "      <th>0</th>\n",
       "      <td>chain</td>\n",
       "      <td>42000</td>\n",
       "      <td>20</td>\n",
       "    </tr>\n",
       "    <tr>\n",
       "      <th>1</th>\n",
       "      <td>ring</td>\n",
       "      <td>22000</td>\n",
       "      <td>50</td>\n",
       "    </tr>\n",
       "    <tr>\n",
       "      <th>2</th>\n",
       "      <td>bracelet</td>\n",
       "      <td>45000</td>\n",
       "      <td>25</td>\n",
       "    </tr>\n",
       "    <tr>\n",
       "      <th>3</th>\n",
       "      <td>earings</td>\n",
       "      <td>18000</td>\n",
       "      <td>10</td>\n",
       "    </tr>\n",
       "    <tr>\n",
       "      <th>4</th>\n",
       "      <td>coins</td>\n",
       "      <td>9999</td>\n",
       "      <td>5</td>\n",
       "    </tr>\n",
       "  </tbody>\n",
       "</table>\n",
       "</div>"
      ],
      "text/plain": [
       "      malan  Malan  Offer\n",
       "0     chain  42000     20\n",
       "1      ring  22000     50\n",
       "2  bracelet  45000     25\n",
       "3   earings  18000     10\n",
       "4     coins   9999      5"
      ]
     },
     "execution_count": 11,
     "metadata": {},
     "output_type": "execute_result"
    }
   ],
   "source": [
    "data"
   ]
  },
  {
   "cell_type": "code",
   "execution_count": 12,
   "id": "a83825e4-72cc-4af0-9916-eb6c68ba19b1",
   "metadata": {},
   "outputs": [
    {
     "name": "stdout",
     "output_type": "stream",
     "text": [
      "<class 'pandas.core.frame.DataFrame'>\n",
      "RangeIndex: 5 entries, 0 to 4\n",
      "Data columns (total 3 columns):\n",
      " #   Column  Non-Null Count  Dtype \n",
      "---  ------  --------------  ----- \n",
      " 0   malan   5 non-null      object\n",
      " 1   Malan   5 non-null      int64 \n",
      " 2   Offer   5 non-null      int64 \n",
      "dtypes: int64(2), object(1)\n",
      "memory usage: 248.0+ bytes\n"
     ]
    }
   ],
   "source": [
    "data.info()"
   ]
  },
  {
   "cell_type": "code",
   "execution_count": 13,
   "id": "c13c63c4-1130-44ac-95a3-0d55edb7bae3",
   "metadata": {},
   "outputs": [
    {
     "data": {
      "text/plain": [
       "0       chain\n",
       "1        ring\n",
       "2    bracelet\n",
       "3     earings\n",
       "4       coins\n",
       "Name: malan, dtype: object"
      ]
     },
     "execution_count": 13,
     "metadata": {},
     "output_type": "execute_result"
    }
   ],
   "source": [
    "data.malan"
   ]
  },
  {
   "cell_type": "code",
   "execution_count": 16,
   "id": "82aad89f-882d-4e30-8650-9ea685076a4e",
   "metadata": {},
   "outputs": [
    {
     "data": {
      "text/plain": [
       "0    20\n",
       "1    50\n",
       "2    25\n",
       "3    10\n",
       "4     5\n",
       "Name: Offer, dtype: int64"
      ]
     },
     "execution_count": 16,
     "metadata": {},
     "output_type": "execute_result"
    }
   ],
   "source": [
    "data[\"Offer\"]"
   ]
  },
  {
   "cell_type": "code",
   "execution_count": 17,
   "id": "51dc7394-14dd-4583-bb22-5489e4aec6ed",
   "metadata": {},
   "outputs": [],
   "source": [
    "data.to_csv(\"Malan_jewels.csv\",index=False)"
   ]
  }
 ],
 "metadata": {
  "kernelspec": {
   "display_name": "Python 3 (ipykernel)",
   "language": "python",
   "name": "python3"
  },
  "language_info": {
   "codemirror_mode": {
    "name": "ipython",
    "version": 3
   },
   "file_extension": ".py",
   "mimetype": "text/x-python",
   "name": "python",
   "nbconvert_exporter": "python",
   "pygments_lexer": "ipython3",
   "version": "3.9.6"
  }
 },
 "nbformat": 4,
 "nbformat_minor": 5
}
