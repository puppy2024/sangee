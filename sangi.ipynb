class square :
    def __init__(self):
        self.side=int(input("enter a number"))
    def area (self):
        print("area of the square is : ",self.side*self.side)
        
    
